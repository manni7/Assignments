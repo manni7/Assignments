{
 "cells": [
  {
   "cell_type": "code",
   "execution_count": 5,
   "metadata": {},
   "outputs": [
    {
     "name": "stdout",
     "output_type": "stream",
     "text": [
      "Enter the side value of a : 8\n",
      "Enter the side value of b : 5\n",
      "Enter the side value of c : 7\n",
      "Area of Triangle is : 17.320508075688775\n"
     ]
    }
   ],
   "source": [
    "# solution 1.1\n",
    "\n",
    "# Class\n",
    "class triangle():\n",
    "    def __init__(self, a, b, c):\n",
    "        self.a = a\n",
    "        self.b = b\n",
    "        self.c = c\n",
    "        \n",
    "        \n",
    "        \n",
    "class cls_area(triangle):\n",
    "    def area (self, *args):\n",
    "        super(triangle,self).__init__(*args)\n",
    "        s = (a+b+c)/2\n",
    "        result = (s*(s-a)*(s-b)*(s-c))**0.5\n",
    "        \n",
    "        return result\n",
    "        \n",
    "        \n",
    "        \n",
    "\n",
    "# object\n",
    "a = int(input(\"Enter the side value of a : \"))\n",
    "b = int(input(\"Enter the side value of b : \"))\n",
    "c = int(input(\"Enter the side value of c : \"))\n",
    "out = cls_area(a,b,c)\n",
    "print(\"Area of Triangle is :\",out.area())"
   ]
  },
  {
   "cell_type": "code",
   "execution_count": 7,
   "metadata": {},
   "outputs": [
    {
     "name": "stdout",
     "output_type": "stream",
     "text": [
      "Enter number : 3\n"
     ]
    },
    {
     "data": {
      "text/plain": [
       "['Focus', 'your', 'goal']"
      ]
     },
     "execution_count": 7,
     "metadata": {},
     "output_type": "execute_result"
    }
   ],
   "source": [
    "# solution 1.2\n",
    "\n",
    "# function difinition\n",
    "def filter_long_word(lst, num):\n",
    "    lt=[]\n",
    "    for i in range(len(lst)):\n",
    "        temp = len(lst[i])\n",
    "        if temp>num:\n",
    "            lt.append(lst[i])\n",
    "            \n",
    "    return lt\n",
    "\n",
    "\n",
    "# calling function        \n",
    "lstss = [\"Focus\", \"on\", \"your\", \"goal\"]\n",
    "num = int(input(\"Enter number : \"))\n",
    "\n",
    "filter_long_word(lstss, num)"
   ]
  },
  {
   "cell_type": "code",
   "execution_count": 8,
   "metadata": {},
   "outputs": [
    {
     "data": {
      "text/plain": [
       "[3, 7, 2, 10]"
      ]
     },
     "execution_count": 8,
     "metadata": {},
     "output_type": "execute_result"
    }
   ],
   "source": [
    "#solution 2.1\n",
    "\n",
    "# function difinition\n",
    "def len_word(lst):\n",
    "    lsts=[]\n",
    "    for i in range(len(lst)):\n",
    "        lsts.append(len(lst[i]))\n",
    "        \n",
    "    return lsts\n",
    "\n",
    "\n",
    "# calling function        \n",
    "lst = ['Hey','nothing','is','impossible']\n",
    "len_word(lst)"
   ]
  },
  {
   "cell_type": "code",
   "execution_count": 9,
   "metadata": {},
   "outputs": [
    {
     "name": "stdout",
     "output_type": "stream",
     "text": [
      "Enter a character : g\n"
     ]
    },
    {
     "data": {
      "text/plain": [
       "False"
      ]
     },
     "execution_count": 9,
     "metadata": {},
     "output_type": "execute_result"
    }
   ],
   "source": [
    "# solution 2.2\n",
    "\n",
    "# function difinition\n",
    "def check_vowels(ch):\n",
    "    ch = ch.lower()\n",
    "    if len(ch)==1:\n",
    "        if ch == 'a' or ch == 'e' or ch == 'i' or ch == 'o' or ch == 'u':\n",
    "            return True\n",
    "        else:\n",
    "            return False\n",
    "    else:\n",
    "        return \"Enter a character\"\n",
    "\n",
    "# calling function        \n",
    "ch = input(\"Enter a character : \")\n",
    "check_vowels(ch)"
   ]
  },
  {
   "cell_type": "code",
   "execution_count": null,
   "metadata": {},
   "outputs": [],
   "source": []
  }
 ],
 "metadata": {
  "kernelspec": {
   "display_name": "Python 3",
   "language": "python",
   "name": "python3"
  },
  "language_info": {
   "codemirror_mode": {
    "name": "ipython",
    "version": 3
   },
   "file_extension": ".py",
   "mimetype": "text/x-python",
   "name": "python",
   "nbconvert_exporter": "python",
   "pygments_lexer": "ipython3",
   "version": "3.8.5"
  }
 },
 "nbformat": 4,
 "nbformat_minor": 4
}
